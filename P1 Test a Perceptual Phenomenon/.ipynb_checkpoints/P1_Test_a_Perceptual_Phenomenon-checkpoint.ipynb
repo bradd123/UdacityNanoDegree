{
 "cells": [
  {
   "cell_type": "markdown",
   "metadata": {},
   "source": [
    "# P1 : Test a Perceptual Phenomenon"
   ]
  },
  {
   "cell_type": "markdown",
   "metadata": {},
   "source": [
    "### 1. What is our independent variable? What is our dependent variable?"
   ]
  },
  {
   "cell_type": "markdown",
   "metadata": {},
   "source": [
    "__Independent Variable__ : Type of words (Congruent or Incongruent)\n",
    "\n",
    "__Dependent Variable__ : Time taken by participants to read the words"
   ]
  },
  {
   "cell_type": "markdown",
   "metadata": {},
   "source": [
    "### 2. What is an appropriate set of hypotheses for this task? What kind of statistical test do you expect to perform? Justify your choices."
   ]
  },
  {
   "cell_type": "markdown",
   "metadata": {},
   "source": [
    "__Hypotheses__ :\n",
    "\n",
    "Null Hypotheses : There is no significant difference between means of times taken by participants to read Congruent and Incongruent word sets.\n",
    "\n",
    "Alterantive Hypotheses : The is significant difference between means of times taken by participants to read Congruent and Incongruent word sets.\n",
    "\n",
    "$$H_0 : \\mu_C - \\mu_I = 0 $$\n",
    "$$H_A : \\mu_C - \\mu_I != 0 $$\n",
    "\n",
    "Where:\n",
    "$$\n",
    "H_0  = Null Hypotheses \\\\\n",
    "H_A = Alternate Hypotheses \\\\\n",
    "\\mu_C = Congruent mean \\\\\n",
    "\\mu_I = Incongruent mean\n",
    "$$\n",
    "To verify that the difference is not just simply because of the variance in data, we will perform a dependent paired sample two tailed t-test with alpha level of 0.05. This is because the two samples are dependent and tested under same conditions. After doing all calculations, we can decide whether to reject or keep the Null hypotheses."
   ]
  },
  {
   "cell_type": "markdown",
   "metadata": {},
   "source": [
    "### 3. Report some descriptive statistics regarding this dataset. Include at least one measure of central tendency and at least one measure of variability."
   ]
  },
  {
   "cell_type": "markdown",
   "metadata": {
    "collapsed": true
   },
   "source": [
    "__Descriptive Statistics__:\n",
    "1. Congruent Mean: 14.051125\n",
    "2. Incongruent Mean: 22.0159166667\n",
    "3. Congruent Variance: 12.66902907\n",
    "4. Incongruent Variance: 23.01175704\n",
    "5. Mean of differences : -7.96479\n",
    "6. Standard deviation of differences : 4.86482691"
   ]
  },
  {
   "cell_type": "markdown",
   "metadata": {},
   "source": [
    "### 4. Provide one or two visualizations that show the distribution of the sample data. Write one or two sentences noting what you observe about the plot or plots"
   ]
  },
  {
   "cell_type": "code",
   "execution_count": 9,
   "metadata": {
    "collapsed": false
   },
   "outputs": [
    {
     "data": {
      "text/html": [
       "<div>\n",
       "<table border=\"1\" class=\"dataframe\">\n",
       "  <thead>\n",
       "    <tr style=\"text-align: right;\">\n",
       "      <th></th>\n",
       "      <th>Congruent</th>\n",
       "      <th>Incongruent</th>\n",
       "    </tr>\n",
       "  </thead>\n",
       "  <tbody>\n",
       "    <tr>\n",
       "      <th>0</th>\n",
       "      <td>12.079</td>\n",
       "      <td>19.278</td>\n",
       "    </tr>\n",
       "    <tr>\n",
       "      <th>1</th>\n",
       "      <td>16.791</td>\n",
       "      <td>18.741</td>\n",
       "    </tr>\n",
       "    <tr>\n",
       "      <th>2</th>\n",
       "      <td>9.564</td>\n",
       "      <td>21.214</td>\n",
       "    </tr>\n",
       "    <tr>\n",
       "      <th>3</th>\n",
       "      <td>8.630</td>\n",
       "      <td>15.687</td>\n",
       "    </tr>\n",
       "    <tr>\n",
       "      <th>4</th>\n",
       "      <td>14.669</td>\n",
       "      <td>22.803</td>\n",
       "    </tr>\n",
       "  </tbody>\n",
       "</table>\n",
       "</div>"
      ],
      "text/plain": [
       "   Congruent  Incongruent\n",
       "0     12.079       19.278\n",
       "1     16.791       18.741\n",
       "2      9.564       21.214\n",
       "3      8.630       15.687\n",
       "4     14.669       22.803"
      ]
     },
     "execution_count": 9,
     "metadata": {},
     "output_type": "execute_result"
    }
   ],
   "source": [
    "%matplotlib inline\n",
    "import pandas as pd\n",
    "import matplotlib.pyplot as plt\n",
    "import seaborn as sns\n",
    "stroop = pd.read_csv(\"stroopdata.csv\")\n",
    "stroop.head()"
   ]
  },
  {
   "cell_type": "code",
   "execution_count": 15,
   "metadata": {
    "collapsed": false
   },
   "outputs": [
    {
     "data": {
      "text/plain": [
       "<matplotlib.axes._subplots.AxesSubplot at 0x117eae4d0>"
      ]
     },
     "execution_count": 15,
     "metadata": {},
     "output_type": "execute_result"
    },
    {
     "data": {
      "image/png": "[encoded data removed]",
      "text/plain": [
       "<matplotlib.figure.Figure at 0x117f32290>"
      ]
     },
     "metadata": {},
     "output_type": "display_data"
    }
   ],
   "source": [
    "sns.boxplot(stroop[['Congruent', 'Incongruent']])"
   ]
  },
  {
   "cell_type": "code",
   "execution_count": 30,
   "metadata": {
    "collapsed": false
   },
   "outputs": [
    {
     "data": {
      "image/png": "[encoded data removed]",
      "text/plain": [
       "<matplotlib.figure.Figure at 0x119e2fbd0>"
      ]
     },
     "metadata": {},
     "output_type": "display_data"
    }
   ],
   "source": [
    "plt.hist([stroop.Congruent, stroop.Incongruent], color = ['r', 'b'], label = ['Congruent', 'Incongruent'], alpha = 0.5)\n",
    "plt.legend()\n",
    "plt.show()"
   ]
  },
  {
   "cell_type": "markdown",
   "metadata": {},
   "source": [
    "In the first plot we can clearly see that Congruent mean is less than Incongruent mean. We can clearly observe the outliers in Incongruent boxplot. In second plot also we can see this outliers. For congruent we can see the values starting from below 10. But for Incongruent the values are starting from 15 onwards which is greater than the mean of congruent. So there is an observable difference between the two means. Now we will do some statistical test to prove this."
   ]
  },
  {
   "cell_type": "markdown",
   "metadata": {},
   "source": [
    "### 5. Now, perform the statistical test and report your results. What is your confidence level and your critical statistic value? Do you reject the null hypothesis or fail to reject it? Come to a conclusion in terms of the experiment task. Did the results match up with your expectations?"
   ]
  },
  {
   "cell_type": "markdown",
   "metadata": {},
   "source": [
    "We are taking 95% confidence level\n",
    "__T test results__:\n",
    "1. t statistic = -7.96479\n",
    "2. Alpha value = 0.05\n",
    "3. t citrical values for two tailed test at an alpha of 0.05 = (-0.2069, +0.2069)\n",
    "4. Two tailed p-value = 0.000000041\n",
    "5. Effect size measure(cohen's d) = -1.637219912901304\n",
    "6. 95% confidence interval for mean population difference = (-10.01440277, -5.91518)\n",
    "\n",
    "Yes, Based on these calculations I reject the null hypotheses. There is a significant difference between the mean values of time taken by participants to read Congruent and Incongruent words. Specifically, participants took significantly fewer time to read Congruent words than to read Incongruent words. The difference between these two word sets has causal effect on reading time.\n",
    "\n",
    "When I took this test, I found that Incongruent words took much time to finish than Congruent words. Yes, the results did match up with my expectations."
   ]
  },
  {
   "cell_type": "markdown",
   "metadata": {},
   "source": [
    "### 6. Optional: What do you think is responsible for the effects observed? Can you think of an alternative or similar task that would result in a similar effect? Some research about the problem will be helpful for thinking about these two questions!"
   ]
  },
  {
   "cell_type": "markdown",
   "metadata": {},
   "source": [
    "I suspect this is because of our brain structure. Our brain uses separate modules to do different tasks. When color and text is different, there is some lag in processing the information. Another similar task would be writing with hand other than what people normally use to write. Personally I took longer to write with left hand than right hand (I am a right handed person). "
   ]
  },
  {
   "cell_type": "markdown",
   "metadata": {},
   "source": [
    "### References:\n",
    "\n",
    "1. [Stroop Effect](https://www.rit.edu/cla/gssp400/sbackground.html)\n",
    "2. [Hypotheses Testing](https://onlinecourses.science.psu.edu/statprogram/node/138)\n",
    "3. Udacity Discussions\n",
    "4. [Seaborn](http://stanford.edu/~mwaskom/software/seaborn/index.html)"
   ]
  },
  {
   "cell_type": "code",
   "execution_count": null,
   "metadata": {
    "collapsed": true
   },
   "outputs": [],
   "source": []
  }
 ],
 "metadata": {
  "kernelspec": {
   "display_name": "Python 2",
   "language": "python",
   "name": "python2"
  },
  "language_info": {
   "codemirror_mode": {
    "name": "ipython",
    "version": 2
   },
   "file_extension": ".py",
   "mimetype": "text/x-python",
   "name": "python",
   "nbconvert_exporter": "python",
   "pygments_lexer": "ipython2",
   "version": "2.7.12"
  }
 },
 "nbformat": 4,
 "nbformat_minor": 0
}
