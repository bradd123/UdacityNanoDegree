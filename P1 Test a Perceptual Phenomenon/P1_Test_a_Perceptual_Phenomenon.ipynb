{
 "cells": [
  {
   "cell_type": "markdown",
   "metadata": {},
   "source": [
    "# P1 : Test a Perceptual Phenomenon"
   ]
  },
  {
   "cell_type": "markdown",
   "metadata": {},
   "source": [
    "### 1. What is our independent variable? What is our dependent variable?"
   ]
  },
  {
   "cell_type": "markdown",
   "metadata": {},
   "source": [
    "__Independent Variable__ : Type of words (Congruent or Incongruent)\n",
    "\n",
    "__Dependent Variable__ : Time taken by participants to read the words"
   ]
  },
  {
   "cell_type": "markdown",
   "metadata": {},
   "source": [
    "### 2. What is an appropriate set of hypotheses for this task? What kind of statistical test do you expect to perform? Justify your choices."
   ]
  },
  {
   "cell_type": "markdown",
   "metadata": {},
   "source": [
    "__Hypotheses__ :\n",
    "\n",
    "Null Hypotheses : There is no significant difference between means of times taken by participants to read Congruent and Incongruent word sets.\n",
    "\n",
    "Alterantive Hypotheses : The is significant difference between means of times taken by participants to read Congruent and Incongruent word sets.\n",
    "\n",
    "$$H_0 : \\mu_C - \\mu_I = 0 $$\n",
    "$$H_A : \\mu_C - \\mu_I != 0 $$\n",
    "\n",
    "Where:\n",
    "$$\n",
    "H_0  = Null Hypotheses \\\\\n",
    "H_A = Alternate Hypotheses \\\\\n",
    "\\mu_C = Congruent mean \\\\\n",
    "\\mu_I = Incongruent mean\n",
    "$$\n",
    "To verify that the difference is not just simply because of the variance in data, we will perform a dependent paired sample two tailed t-test with alpha level of 0.05. This is because the two samples are dependent and tested under same conditions. After doing all calculations, we can decide whether to reject or keep the Null hypotheses."
   ]
  },
  {
   "cell_type": "markdown",
   "metadata": {},
   "source": [
    "### 3. Report some descriptive statistics regarding this dataset. Include at least one measure of central tendency and at least one measure of variability."
   ]
  },
  {
   "cell_type": "code",
   "execution_count": null,
   "metadata": {
    "collapsed": true
   },
   "outputs": [],
   "source": []
  }
 ],
 "metadata": {
  "kernelspec": {
   "display_name": "Python 2",
   "language": "python",
   "name": "python2"
  },
  "language_info": {
   "codemirror_mode": {
    "name": "ipython",
    "version": 2
   },
   "file_extension": ".py",
   "mimetype": "text/x-python",
   "name": "python",
   "nbconvert_exporter": "python",
   "pygments_lexer": "ipython2",
   "version": "2.7.12"
  }
 },
 "nbformat": 4,
 "nbformat_minor": 0
}
