{
 "cells": [
  {
   "cell_type": "markdown",
   "metadata": {},
   "source": [
    "# Investigate Titanic Dataset"
   ]
  },
  {
   "cell_type": "markdown",
   "metadata": {},
   "source": [
    "### What factors made passengers more likely to survive?"
   ]
  },
  {
   "cell_type": "code",
   "execution_count": 85,
   "metadata": {
    "collapsed": true
   },
   "outputs": [],
   "source": [
    "# import necessary libraries\n",
    "import numpy as np\n",
    "import pandas as pd"
   ]
  },
  {
   "cell_type": "code",
   "execution_count": 86,
   "metadata": {
    "collapsed": true
   },
   "outputs": [],
   "source": [
    "# load the titanic dataset\n",
    "titanic_raw = pd.read_csv(\"titanic_data.csv\")"
   ]
  },
  {
   "cell_type": "markdown",
   "metadata": {},
   "source": [
    "We loaded the data in titanic_raw dataframe. Let's see the structure of the data"
   ]
  },
  {
   "cell_type": "code",
   "execution_count": 240,
   "metadata": {
    "collapsed": false
   },
   "outputs": [
    {
     "data": {
      "text/html": [
       "<div>\n",
       "<table border=\"1\" class=\"dataframe\">\n",
       "  <thead>\n",
       "    <tr style=\"text-align: right;\">\n",
       "      <th></th>\n",
       "      <th>PassengerId</th>\n",
       "      <th>Survived</th>\n",
       "      <th>Pclass</th>\n",
       "      <th>Name</th>\n",
       "      <th>Sex</th>\n",
       "      <th>Age</th>\n",
       "      <th>SibSp</th>\n",
       "      <th>Parch</th>\n",
       "      <th>Ticket</th>\n",
       "      <th>Fare</th>\n",
       "      <th>Cabin</th>\n",
       "      <th>Embarked</th>\n",
       "      <th>rel</th>\n",
       "      <th>Gender</th>\n",
       "      <th>Embarked_new</th>\n",
       "    </tr>\n",
       "  </thead>\n",
       "  <tbody>\n",
       "    <tr>\n",
       "      <th>0</th>\n",
       "      <td>1</td>\n",
       "      <td>0</td>\n",
       "      <td>3</td>\n",
       "      <td>Braund, Mr. Owen Harris</td>\n",
       "      <td>male</td>\n",
       "      <td>22.0</td>\n",
       "      <td>1</td>\n",
       "      <td>0</td>\n",
       "      <td>A/5 21171</td>\n",
       "      <td>7.2500</td>\n",
       "      <td>NaN</td>\n",
       "      <td>S</td>\n",
       "      <td>1</td>\n",
       "      <td>0</td>\n",
       "      <td>0</td>\n",
       "    </tr>\n",
       "    <tr>\n",
       "      <th>1</th>\n",
       "      <td>2</td>\n",
       "      <td>1</td>\n",
       "      <td>1</td>\n",
       "      <td>Cumings, Mrs. John Bradley (Florence Briggs Th...</td>\n",
       "      <td>female</td>\n",
       "      <td>38.0</td>\n",
       "      <td>1</td>\n",
       "      <td>0</td>\n",
       "      <td>PC 17599</td>\n",
       "      <td>71.2833</td>\n",
       "      <td>C85</td>\n",
       "      <td>C</td>\n",
       "      <td>1</td>\n",
       "      <td>1</td>\n",
       "      <td>1</td>\n",
       "    </tr>\n",
       "    <tr>\n",
       "      <th>2</th>\n",
       "      <td>3</td>\n",
       "      <td>1</td>\n",
       "      <td>3</td>\n",
       "      <td>Heikkinen, Miss. Laina</td>\n",
       "      <td>female</td>\n",
       "      <td>26.0</td>\n",
       "      <td>0</td>\n",
       "      <td>0</td>\n",
       "      <td>STON/O2. 3101282</td>\n",
       "      <td>7.9250</td>\n",
       "      <td>NaN</td>\n",
       "      <td>S</td>\n",
       "      <td>0</td>\n",
       "      <td>1</td>\n",
       "      <td>0</td>\n",
       "    </tr>\n",
       "    <tr>\n",
       "      <th>3</th>\n",
       "      <td>4</td>\n",
       "      <td>1</td>\n",
       "      <td>1</td>\n",
       "      <td>Futrelle, Mrs. Jacques Heath (Lily May Peel)</td>\n",
       "      <td>female</td>\n",
       "      <td>35.0</td>\n",
       "      <td>1</td>\n",
       "      <td>0</td>\n",
       "      <td>113803</td>\n",
       "      <td>53.1000</td>\n",
       "      <td>C123</td>\n",
       "      <td>S</td>\n",
       "      <td>1</td>\n",
       "      <td>1</td>\n",
       "      <td>0</td>\n",
       "    </tr>\n",
       "    <tr>\n",
       "      <th>4</th>\n",
       "      <td>5</td>\n",
       "      <td>0</td>\n",
       "      <td>3</td>\n",
       "      <td>Allen, Mr. William Henry</td>\n",
       "      <td>male</td>\n",
       "      <td>35.0</td>\n",
       "      <td>0</td>\n",
       "      <td>0</td>\n",
       "      <td>373450</td>\n",
       "      <td>8.0500</td>\n",
       "      <td>NaN</td>\n",
       "      <td>S</td>\n",
       "      <td>0</td>\n",
       "      <td>0</td>\n",
       "      <td>0</td>\n",
       "    </tr>\n",
       "  </tbody>\n",
       "</table>\n",
       "</div>"
      ],
      "text/plain": [
       "   PassengerId  Survived  Pclass  \\\n",
       "0            1         0       3   \n",
       "1            2         1       1   \n",
       "2            3         1       3   \n",
       "3            4         1       1   \n",
       "4            5         0       3   \n",
       "\n",
       "                                                Name     Sex   Age  SibSp  \\\n",
       "0                            Braund, Mr. Owen Harris    male  22.0      1   \n",
       "1  Cumings, Mrs. John Bradley (Florence Briggs Th...  female  38.0      1   \n",
       "2                             Heikkinen, Miss. Laina  female  26.0      0   \n",
       "3       Futrelle, Mrs. Jacques Heath (Lily May Peel)  female  35.0      1   \n",
       "4                           Allen, Mr. William Henry    male  35.0      0   \n",
       "\n",
       "   Parch            Ticket     Fare Cabin Embarked  rel  Gender  Embarked_new  \n",
       "0      0         A/5 21171   7.2500   NaN        S    1       0             0  \n",
       "1      0          PC 17599  71.2833   C85        C    1       1             1  \n",
       "2      0  STON/O2. 3101282   7.9250   NaN        S    0       1             0  \n",
       "3      0            113803  53.1000  C123        S    1       1             0  \n",
       "4      0            373450   8.0500   NaN        S    0       0             0  "
      ]
     },
     "execution_count": 240,
     "metadata": {},
     "output_type": "execute_result"
    }
   ],
   "source": [
    "# we can see only top five rows\n",
    "titanic_raw.head()"
   ]
  },
  {
   "cell_type": "markdown",
   "metadata": {},
   "source": [
    "We have 12 columns. Observe that the Cabin column has a weird value 'NaN', which means Not a Number (Not available).\n",
    "Some other columns might also have this kind of missing values. Let's check them"
   ]
  },
  {
   "cell_type": "code",
   "execution_count": 88,
   "metadata": {
    "collapsed": false
   },
   "outputs": [
    {
     "data": {
      "text/plain": [
       "891"
      ]
     },
     "execution_count": 88,
     "metadata": {},
     "output_type": "execute_result"
    }
   ],
   "source": [
    "len(titanic_raw)"
   ]
  },
  {
   "cell_type": "code",
   "execution_count": 89,
   "metadata": {
    "collapsed": false
   },
   "outputs": [
    {
     "data": {
      "text/plain": [
       "PassengerId      0\n",
       "Survived         0\n",
       "Pclass           0\n",
       "Name             0\n",
       "Sex              0\n",
       "Age            177\n",
       "SibSp            0\n",
       "Parch            0\n",
       "Ticket           0\n",
       "Fare             0\n",
       "Cabin          687\n",
       "Embarked         2\n",
       "dtype: int64"
      ]
     },
     "execution_count": 89,
     "metadata": {},
     "output_type": "execute_result"
    }
   ],
   "source": [
    "titanic_raw.isnull().sum()"
   ]
  },
  {
   "cell_type": "markdown",
   "metadata": {},
   "source": [
    "Cabin column has most number of missing values. Since cabin is not contributing anything for end result, we can remove that. Age column has 177/891 missing values. We need to replace those missing values with appropriate value. Embarked has only 2 missing values."
   ]
  },
  {
   "cell_type": "markdown",
   "metadata": {},
   "source": [
    "## Data Wrangling"
   ]
  },
  {
   "cell_type": "markdown",
   "metadata": {},
   "source": [
    "In this step we will find and correct irregularities of data. Those are missing values and other data errors. I am imputing missing values with __mean__ of that column. There are so many ways one can impute values. Other popular way is to impute with __median__."
   ]
  },
  {
   "cell_type": "markdown",
   "metadata": {},
   "source": [
    "### Age"
   ]
  },
  {
   "cell_type": "code",
   "execution_count": 90,
   "metadata": {
    "collapsed": true
   },
   "outputs": [],
   "source": [
    "# fill all missing values of 'age' with mean value of 'age'.\n",
    "titanic_raw['Age'] = titanic_raw['Age'].fillna(titanic_raw['Age'].mean())"
   ]
  },
  {
   "cell_type": "code",
   "execution_count": 91,
   "metadata": {
    "collapsed": false
   },
   "outputs": [
    {
     "data": {
      "text/plain": [
       "0"
      ]
     },
     "execution_count": 91,
     "metadata": {},
     "output_type": "execute_result"
    }
   ],
   "source": [
    "titanic_raw['Age'].isnull().sum()"
   ]
  },
  {
   "cell_type": "markdown",
   "metadata": {},
   "source": [
    "Now we don't have any missing values in __Age__"
   ]
  },
  {
   "cell_type": "markdown",
   "metadata": {},
   "source": [
    "### Embarked"
   ]
  },
  {
   "cell_type": "markdown",
   "metadata": {},
   "source": [
    "Let's explore __Embarked__ before imputing missing values."
   ]
  },
  {
   "cell_type": "code",
   "execution_count": 92,
   "metadata": {
    "collapsed": false
   },
   "outputs": [
    {
     "data": {
      "text/plain": [
       "S    644\n",
       "C    168\n",
       "Q     77\n",
       "Name: Embarked, dtype: int64"
      ]
     },
     "execution_count": 92,
     "metadata": {},
     "output_type": "execute_result"
    }
   ],
   "source": [
    "titanic_raw['Embarked'].value_counts()"
   ]
  },
  {
   "cell_type": "markdown",
   "metadata": {},
   "source": [
    "Since __S__ has maximum number of values, we will replace missing values with __S__"
   ]
  },
  {
   "cell_type": "code",
   "execution_count": 93,
   "metadata": {
    "collapsed": true
   },
   "outputs": [],
   "source": [
    "titanic_raw['Embarked'] = titanic_raw['Embarked'].fillna('S')"
   ]
  },
  {
   "cell_type": "code",
   "execution_count": 94,
   "metadata": {
    "collapsed": false
   },
   "outputs": [
    {
     "data": {
      "text/plain": [
       "0"
      ]
     },
     "execution_count": 94,
     "metadata": {},
     "output_type": "execute_result"
    }
   ],
   "source": [
    "titanic_raw['Embarked'].isnull().sum()"
   ]
  },
  {
   "cell_type": "markdown",
   "metadata": {},
   "source": [
    "For convenience we will create a new column called __Embarked_new__ and replace __S__ with __0__, __C__ with __1__ and __Q__ with __1__"
   ]
  },
  {
   "cell_type": "code",
   "execution_count": 102,
   "metadata": {
    "collapsed": false
   },
   "outputs": [
    {
     "data": {
      "text/plain": [
       "0    646\n",
       "1    168\n",
       "2     77\n",
       "Name: Embarked_new, dtype: int64"
      ]
     },
     "execution_count": 102,
     "metadata": {},
     "output_type": "execute_result"
    }
   ],
   "source": [
    "titanic_raw['Embarked_new'] = titanic_raw['Embarked'].map({'S':0, 'C':1, 'Q':2})\n",
    "titanic_raw['Embarked_new'].value_counts()"
   ]
  },
  {
   "cell_type": "markdown",
   "metadata": {},
   "source": [
    "There are no missing values in __Embarked__ column"
   ]
  },
  {
   "cell_type": "markdown",
   "metadata": {},
   "source": [
    "We have two columns that represents number of relatives of passengers, __SibSp__ and __Parch__. We may want to find out whether there is any relation between number of relatives and survivalship rate. We will create a new column __rel__ to represent the number of relatives in which we will combine both __SibSp__ and __Parch__."
   ]
  },
  {
   "cell_type": "code",
   "execution_count": 103,
   "metadata": {
    "collapsed": true
   },
   "outputs": [],
   "source": [
    "titanic_raw['rel'] = titanic_raw['SibSp'] + titanic_raw['Parch']"
   ]
  },
  {
   "cell_type": "markdown",
   "metadata": {},
   "source": [
    "Let's explore each column independently before finding the relationships between them."
   ]
  },
  {
   "cell_type": "markdown",
   "metadata": {},
   "source": [
    "### Survived"
   ]
  },
  {
   "cell_type": "code",
   "execution_count": 104,
   "metadata": {
    "collapsed": false
   },
   "outputs": [
    {
     "data": {
      "text/plain": [
       "0    549\n",
       "1    342\n",
       "Name: Survived, dtype: int64"
      ]
     },
     "execution_count": 104,
     "metadata": {},
     "output_type": "execute_result"
    }
   ],
   "source": [
    "titanic_raw['Survived'].value_counts()"
   ]
  },
  {
   "cell_type": "markdown",
   "metadata": {},
   "source": [
    "So there are total __342__ people survived and __549__ people passed away."
   ]
  },
  {
   "cell_type": "markdown",
   "metadata": {},
   "source": [
    "### Pclass"
   ]
  },
  {
   "cell_type": "code",
   "execution_count": 105,
   "metadata": {
    "collapsed": false
   },
   "outputs": [
    {
     "data": {
      "text/plain": [
       "3    491\n",
       "1    216\n",
       "2    184\n",
       "Name: Pclass, dtype: int64"
      ]
     },
     "execution_count": 105,
     "metadata": {},
     "output_type": "execute_result"
    }
   ],
   "source": [
    "titanic_raw['Pclass'].value_counts()"
   ]
  },
  {
   "cell_type": "markdown",
   "metadata": {},
   "source": [
    "So there are more people in __3 class__ than rest of the classes combined. Will this give any clue in our exploration? We will find out soon."
   ]
  },
  {
   "cell_type": "markdown",
   "metadata": {},
   "source": [
    "### Sex"
   ]
  },
  {
   "cell_type": "code",
   "execution_count": 106,
   "metadata": {
    "collapsed": false
   },
   "outputs": [
    {
     "data": {
      "text/plain": [
       "male      577\n",
       "female    314\n",
       "Name: Sex, dtype: int64"
      ]
     },
     "execution_count": 106,
     "metadata": {},
     "output_type": "execute_result"
    }
   ],
   "source": [
    "titanic_raw['Sex'].value_counts()"
   ]
  },
  {
   "cell_type": "markdown",
   "metadata": {},
   "source": [
    "There are more __male__s than __female__s approximately two times."
   ]
  },
  {
   "cell_type": "markdown",
   "metadata": {},
   "source": [
    "For convenience we will create a new column called __Gender__ and replace all __male__ values with __0__ and __female__ values with __1__ (Yes, I am a feminist :) )"
   ]
  },
  {
   "cell_type": "markdown",
   "metadata": {},
   "source": [
    "### Gender"
   ]
  },
  {
   "cell_type": "code",
   "execution_count": 107,
   "metadata": {
    "collapsed": false
   },
   "outputs": [
    {
     "data": {
      "text/plain": [
       "0    577\n",
       "1    314\n",
       "Name: Gender, dtype: int64"
      ]
     },
     "execution_count": 107,
     "metadata": {},
     "output_type": "execute_result"
    }
   ],
   "source": [
    "titanic_raw['Gender'] = titanic_raw['Sex'].map({'female':1, 'male':0}).astype(int)\n",
    "titanic_raw['Gender'].value_counts()"
   ]
  },
  {
   "cell_type": "markdown",
   "metadata": {},
   "source": [
    "### Age"
   ]
  },
  {
   "cell_type": "markdown",
   "metadata": {},
   "source": [
    "Because __Age__ is continuous variable, we will plot it and explore."
   ]
  },
  {
   "cell_type": "code",
   "execution_count": 238,
   "metadata": {
    "collapsed": false
   },
   "outputs": [
    {
     "data": {
      "image/png": "[encoded data removed]",
      "text/plain": [
       "<matplotlib.figure.Figure at 0x12dca9b10>"
      ]
     },
     "metadata": {},
     "output_type": "display_data"
    }
   ],
   "source": [
    "%matplotlib inline\n",
    "import seaborn as sns\n",
    "import matplotlib.pyplot as plt\n",
    "plt.figure()\n",
    "plt.hist(titanic_raw['Age'], bins = 80)\n",
    "plt.xlabel('Age')\n",
    "plt.ylabel('Count')\n",
    "plt.title('Summary of Age')\n",
    "plt.show()"
   ]
  },
  {
   "cell_type": "markdown",
   "metadata": {},
   "source": [
    "Observe that __age 30__ has unusual count. This is because previously I replaced missing values with __mean__."
   ]
  },
  {
   "cell_type": "markdown",
   "metadata": {},
   "source": [
    "### rel"
   ]
  },
  {
   "cell_type": "code",
   "execution_count": 109,
   "metadata": {
    "collapsed": false
   },
   "outputs": [
    {
     "data": {
      "text/plain": [
       "0     537\n",
       "1     161\n",
       "2     102\n",
       "3      29\n",
       "5      22\n",
       "4      15\n",
       "6      12\n",
       "10      7\n",
       "7       6\n",
       "Name: rel, dtype: int64"
      ]
     },
     "execution_count": 109,
     "metadata": {},
     "output_type": "execute_result"
    }
   ],
   "source": [
    "titanic_raw['rel'].value_counts()"
   ]
  },
  {
   "cell_type": "markdown",
   "metadata": {},
   "source": [
    "Most of the people don't have any relatives. Some have __1__ or __2__ relatives and very few have more number of relatives."
   ]
  },
  {
   "cell_type": "markdown",
   "metadata": {},
   "source": [
    "### Fare"
   ]
  },
  {
   "cell_type": "code",
   "execution_count": 239,
   "metadata": {
    "collapsed": false
   },
   "outputs": [
    {
     "data": {
      "image/png": "[encoded data removed]",
      "text/plain": [
       "<matplotlib.figure.Figure at 0x1316b3390>"
      ]
     },
     "metadata": {},
     "output_type": "display_data"
    }
   ],
   "source": [
    "plt.figure()\n",
    "plt.hist(titanic_raw['Fare'])\n",
    "plt.xlabel('Fare')\n",
    "plt.ylabel('count')\n",
    "plt.title('Summary of Fare')\n",
    "plt.show()"
   ]
  },
  {
   "cell_type": "code",
   "execution_count": 111,
   "metadata": {
    "collapsed": false
   },
   "outputs": [
    {
     "data": {
      "text/plain": [
       "15"
      ]
     },
     "execution_count": 111,
     "metadata": {},
     "output_type": "execute_result"
    }
   ],
   "source": [
    "titanic_raw[titanic_raw['Fare'] == 0]['Fare'].count()"
   ]
  },
  {
   "cell_type": "markdown",
   "metadata": {},
   "source": [
    "So there are 15 values that have __Fare__ as __0__. There is something wrong here. There should no __0 Fare__. So we will replace these __0__ values with __mean__ of __Fare__"
   ]
  },
  {
   "cell_type": "code",
   "execution_count": 112,
   "metadata": {
    "collapsed": true
   },
   "outputs": [],
   "source": [
    "titanic_raw.loc[titanic_raw['Fare']==0, 'Fare'] = titanic_raw['Fare'].mean()"
   ]
  },
  {
   "cell_type": "markdown",
   "metadata": {},
   "source": [
    "Now we will see how many __0 Fare__ values are there."
   ]
  },
  {
   "cell_type": "code",
   "execution_count": 113,
   "metadata": {
    "collapsed": false
   },
   "outputs": [
    {
     "data": {
      "text/plain": [
       "0"
      ]
     },
     "execution_count": 113,
     "metadata": {},
     "output_type": "execute_result"
    }
   ],
   "source": [
    "titanic_raw[titanic_raw['Fare'] == 0]['Fare'].count()"
   ]
  },
  {
   "cell_type": "markdown",
   "metadata": {},
   "source": [
    "Now we successfully replaced with __mean__ values."
   ]
  },
  {
   "cell_type": "markdown",
   "metadata": {},
   "source": [
    "## Data Exploration"
   ]
  },
  {
   "cell_type": "markdown",
   "metadata": {},
   "source": [
    "Now we will find out the relation between other columns and __Survived__ column. This is the relationship that we want to find out."
   ]
  },
  {
   "cell_type": "code",
   "execution_count": 114,
   "metadata": {
    "collapsed": false
   },
   "outputs": [
    {
     "data": {
      "text/html": [
       "<div>\n",
       "<table border=\"1\" class=\"dataframe\">\n",
       "  <thead>\n",
       "    <tr style=\"text-align: right;\">\n",
       "      <th></th>\n",
       "      <th>PassengerId</th>\n",
       "      <th>Survived</th>\n",
       "      <th>Pclass</th>\n",
       "      <th>Age</th>\n",
       "      <th>SibSp</th>\n",
       "      <th>Parch</th>\n",
       "      <th>Fare</th>\n",
       "      <th>rel</th>\n",
       "      <th>Gender</th>\n",
       "      <th>Embarked_new</th>\n",
       "    </tr>\n",
       "  </thead>\n",
       "  <tbody>\n",
       "    <tr>\n",
       "      <th>PassengerId</th>\n",
       "      <td>1.000000</td>\n",
       "      <td>-0.005007</td>\n",
       "      <td>-0.035144</td>\n",
       "      <td>0.033207</td>\n",
       "      <td>-0.057527</td>\n",
       "      <td>-0.001652</td>\n",
       "      <td>0.015703</td>\n",
       "      <td>-0.040143</td>\n",
       "      <td>-0.042939</td>\n",
       "      <td>-0.030467</td>\n",
       "    </tr>\n",
       "    <tr>\n",
       "      <th>Survived</th>\n",
       "      <td>-0.005007</td>\n",
       "      <td>1.000000</td>\n",
       "      <td>-0.338481</td>\n",
       "      <td>-0.069809</td>\n",
       "      <td>-0.035322</td>\n",
       "      <td>0.081629</td>\n",
       "      <td>0.251092</td>\n",
       "      <td>0.016639</td>\n",
       "      <td>0.543351</td>\n",
       "      <td>0.106811</td>\n",
       "    </tr>\n",
       "    <tr>\n",
       "      <th>Pclass</th>\n",
       "      <td>-0.035144</td>\n",
       "      <td>-0.338481</td>\n",
       "      <td>1.000000</td>\n",
       "      <td>-0.331339</td>\n",
       "      <td>0.083081</td>\n",
       "      <td>0.018443</td>\n",
       "      <td>-0.556409</td>\n",
       "      <td>0.065997</td>\n",
       "      <td>-0.131900</td>\n",
       "      <td>0.045702</td>\n",
       "    </tr>\n",
       "    <tr>\n",
       "      <th>Age</th>\n",
       "      <td>0.033207</td>\n",
       "      <td>-0.069809</td>\n",
       "      <td>-0.331339</td>\n",
       "      <td>1.000000</td>\n",
       "      <td>-0.232625</td>\n",
       "      <td>-0.179191</td>\n",
       "      <td>0.094039</td>\n",
       "      <td>-0.248512</td>\n",
       "      <td>-0.084153</td>\n",
       "      <td>0.007461</td>\n",
       "    </tr>\n",
       "    <tr>\n",
       "      <th>SibSp</th>\n",
       "      <td>-0.057527</td>\n",
       "      <td>-0.035322</td>\n",
       "      <td>0.083081</td>\n",
       "      <td>-0.232625</td>\n",
       "      <td>1.000000</td>\n",
       "      <td>0.414838</td>\n",
       "      <td>0.155030</td>\n",
       "      <td>0.890712</td>\n",
       "      <td>0.114631</td>\n",
       "      <td>-0.059961</td>\n",
       "    </tr>\n",
       "    <tr>\n",
       "      <th>Parch</th>\n",
       "      <td>-0.001652</td>\n",
       "      <td>0.081629</td>\n",
       "      <td>0.018443</td>\n",
       "      <td>-0.179191</td>\n",
       "      <td>0.414838</td>\n",
       "      <td>1.000000</td>\n",
       "      <td>0.211818</td>\n",
       "      <td>0.783111</td>\n",
       "      <td>0.245489</td>\n",
       "      <td>-0.078665</td>\n",
       "    </tr>\n",
       "    <tr>\n",
       "      <th>Fare</th>\n",
       "      <td>0.015703</td>\n",
       "      <td>0.251092</td>\n",
       "      <td>-0.556409</td>\n",
       "      <td>0.094039</td>\n",
       "      <td>0.155030</td>\n",
       "      <td>0.211818</td>\n",
       "      <td>1.000000</td>\n",
       "      <td>0.211778</td>\n",
       "      <td>0.174911</td>\n",
       "      <td>0.056134</td>\n",
       "    </tr>\n",
       "    <tr>\n",
       "      <th>rel</th>\n",
       "      <td>-0.040143</td>\n",
       "      <td>0.016639</td>\n",
       "      <td>0.065997</td>\n",
       "      <td>-0.248512</td>\n",
       "      <td>0.890712</td>\n",
       "      <td>0.783111</td>\n",
       "      <td>0.211778</td>\n",
       "      <td>1.000000</td>\n",
       "      <td>0.200988</td>\n",
       "      <td>-0.080281</td>\n",
       "    </tr>\n",
       "    <tr>\n",
       "      <th>Gender</th>\n",
       "      <td>-0.042939</td>\n",
       "      <td>0.543351</td>\n",
       "      <td>-0.131900</td>\n",
       "      <td>-0.084153</td>\n",
       "      <td>0.114631</td>\n",
       "      <td>0.245489</td>\n",
       "      <td>0.174911</td>\n",
       "      <td>0.200988</td>\n",
       "      <td>1.000000</td>\n",
       "      <td>0.116569</td>\n",
       "    </tr>\n",
       "    <tr>\n",
       "      <th>Embarked_new</th>\n",
       "      <td>-0.030467</td>\n",
       "      <td>0.106811</td>\n",
       "      <td>0.045702</td>\n",
       "      <td>0.007461</td>\n",
       "      <td>-0.059961</td>\n",
       "      <td>-0.078665</td>\n",
       "      <td>0.056134</td>\n",
       "      <td>-0.080281</td>\n",
       "      <td>0.116569</td>\n",
       "      <td>1.000000</td>\n",
       "    </tr>\n",
       "  </tbody>\n",
       "</table>\n",
       "</div>"
      ],
      "text/plain": [
       "              PassengerId  Survived    Pclass       Age     SibSp     Parch  \\\n",
       "PassengerId      1.000000 -0.005007 -0.035144  0.033207 -0.057527 -0.001652   \n",
       "Survived        -0.005007  1.000000 -0.338481 -0.069809 -0.035322  0.081629   \n",
       "Pclass          -0.035144 -0.338481  1.000000 -0.331339  0.083081  0.018443   \n",
       "Age              0.033207 -0.069809 -0.331339  1.000000 -0.232625 -0.179191   \n",
       "SibSp           -0.057527 -0.035322  0.083081 -0.232625  1.000000  0.414838   \n",
       "Parch           -0.001652  0.081629  0.018443 -0.179191  0.414838  1.000000   \n",
       "Fare             0.015703  0.251092 -0.556409  0.094039  0.155030  0.211818   \n",
       "rel             -0.040143  0.016639  0.065997 -0.248512  0.890712  0.783111   \n",
       "Gender          -0.042939  0.543351 -0.131900 -0.084153  0.114631  0.245489   \n",
       "Embarked_new    -0.030467  0.106811  0.045702  0.007461 -0.059961 -0.078665   \n",
       "\n",
       "                  Fare       rel    Gender  Embarked_new  \n",
       "PassengerId   0.015703 -0.040143 -0.042939     -0.030467  \n",
       "Survived      0.251092  0.016639  0.543351      0.106811  \n",
       "Pclass       -0.556409  0.065997 -0.131900      0.045702  \n",
       "Age           0.094039 -0.248512 -0.084153      0.007461  \n",
       "SibSp         0.155030  0.890712  0.114631     -0.059961  \n",
       "Parch         0.211818  0.783111  0.245489     -0.078665  \n",
       "Fare          1.000000  0.211778  0.174911      0.056134  \n",
       "rel           0.211778  1.000000  0.200988     -0.080281  \n",
       "Gender        0.174911  0.200988  1.000000      0.116569  \n",
       "Embarked_new  0.056134 -0.080281  0.116569      1.000000  "
      ]
     },
     "execution_count": 114,
     "metadata": {},
     "output_type": "execute_result"
    }
   ],
   "source": [
    "titanic_raw.corr()"
   ]
  },
  {
   "cell_type": "markdown",
   "metadata": {},
   "source": [
    "The columns that have strong correlation (either positive or negative) with __Survived__ are __Pclass__, __Fare__ and __Gender__."
   ]
  },
  {
   "cell_type": "markdown",
   "metadata": {},
   "source": [
    "Let's explore each of them now."
   ]
  },
  {
   "cell_type": "markdown",
   "metadata": {},
   "source": [
    "### Survival rate by Pclass"
   ]
  },
  {
   "cell_type": "code",
   "execution_count": 190,
   "metadata": {
    "collapsed": false
   },
   "outputs": [
    {
     "data": {
      "image/png": "[encoded data removed]",
      "text/plain": [
       "<matplotlib.figure.Figure at 0x11d2bc590>"
      ]
     },
     "metadata": {},
     "output_type": "display_data"
    }
   ],
   "source": [
    "#table = pd.pivot_table(titanic_raw, values = 'Survived', index = 'Pclass', columns = 'Survived', aggfunc=np.mean)\n",
    "\n",
    "axes = titanic_raw['Pclass'].hist(by = titanic_raw['Survived'])\n",
    "\n",
    "axes[0].set_xticks(np.arange(1.0,4.0,1.0))\n",
    "axes[0].set_xticklabels(['Class 1', 'Class 2', 'Class 3'], rotation='horizontal')\n",
    "axes[0].set_xlabel('Perished')\n",
    "axes[0].set_title(' ')\n",
    "axes[0].set_ylabel('Count')\n",
    "axes[1].set_xticks(np.arange(1.0,4.0,1.0))\n",
    "axes[1].set_xticklabels(['Class 1', 'Class 2', 'Class 3'], rotation='horizontal')\n",
    "axes[1].set_xlabel('Survived')\n",
    "axes[1].set_title(' ')\n",
    "axes[1].set_ylabel('Count')\n",
    "\n",
    "plt.suptitle('Survival rate by Class')\n",
    "plt.show()"
   ]
  },
  {
   "cell_type": "markdown",
   "metadata": {},
   "source": [
    "Most people survived in __Pclass 1__. But most important observation that we need to make is, in __Pclass 3__ more people died, two times more than other classes combined."
   ]
  },
  {
   "cell_type": "markdown",
   "metadata": {},
   "source": [
    "Now we will look into the relationship between __Fare__ and __Survived__ columns."
   ]
  },
  {
   "cell_type": "markdown",
   "metadata": {},
   "source": [
    "### Survival rate by Fare"
   ]
  },
  {
   "cell_type": "code",
   "execution_count": 171,
   "metadata": {
    "collapsed": false
   },
   "outputs": [
    {
     "data": {
      "image/png": "[encoded data removed]",
      "text/plain": [
       "<matplotlib.figure.Figure at 0x11c0c2650>"
      ]
     },
     "metadata": {},
     "output_type": "display_data"
    }
   ],
   "source": [
    "axes = titanic_raw['Fare'].hist(by = titanic_raw['Survived'])\n",
    "\n",
    "axes[0].set_xlabel('Perished')\n",
    "axes[0].set_title(' ')\n",
    "axes[0].set_ylabel('Count')\n",
    "axes[1].set_xlabel('Survived')\n",
    "axes[1].set_title(' ')\n",
    "axes[1].set_ylabel('Count')\n",
    "\n",
    "plt.suptitle('Survival by Fare')\n",
    "plt.show()"
   ]
  },
  {
   "cell_type": "markdown",
   "metadata": {},
   "source": [
    "We can see that most people who perished are with low __Fare__"
   ]
  },
  {
   "cell_type": "markdown",
   "metadata": {},
   "source": [
    "### Survival rate by Gender"
   ]
  },
  {
   "cell_type": "code",
   "execution_count": 186,
   "metadata": {
    "collapsed": false
   },
   "outputs": [
    {
     "data": {
      "image/png": "[encoded data removed]",
      "text/plain": [
       "<matplotlib.figure.Figure at 0x11fa75e10>"
      ]
     },
     "metadata": {},
     "output_type": "display_data"
    }
   ],
   "source": [
    "axes = titanic_raw['Gender'].hist(by = titanic_raw['Survived'])\n",
    "\n",
    "axes[0].set_xticks(np.arange(0.0,2.0,1.0))\n",
    "axes[0].set_xticklabels(['Male', 'Female'], rotation='horizontal')\n",
    "axes[0].set_xlabel('Perished')\n",
    "axes[0].set_title(' ')\n",
    "axes[0].set_ylabel('Count')\n",
    "axes[1].set_xticks(np.arange(0.0,2.0,1.0))\n",
    "axes[1].set_xticklabels(['Male', 'Female'], rotation='horizontal')\n",
    "axes[1].set_xlabel('Survived')\n",
    "axes[1].set_title(' ')\n",
    "axes[1].set_ylabel('Count')\n",
    "\n",
    "plt.suptitle('Survival Rate by Gender')\n",
    "plt.show()"
   ]
  },
  {
   "cell_type": "markdown",
   "metadata": {},
   "source": [
    "We can clearly observed that __more__ number of __Males__ perished, but __very less__ number of __Females__ perished. The survival rate of __Female__ is very high compared to __Male__. What might be the reason? One reason that I can think of is, in evacuation process the first preference was given to women and children. So more women survived than men."
   ]
  },
  {
   "cell_type": "markdown",
   "metadata": {},
   "source": [
    "### Survival rate by Embarked"
   ]
  },
  {
   "cell_type": "markdown",
   "metadata": {},
   "source": [
    "Even though __Embarked__ is not that significant when compared to other columns, we will just look at relationship between __Embarked__ and __Survived__ just for fun."
   ]
  },
  {
   "cell_type": "code",
   "execution_count": 184,
   "metadata": {
    "collapsed": false
   },
   "outputs": [
    {
     "data": {
      "image/png": "[encoded data removed]",
      "text/plain": [
       "<matplotlib.figure.Figure at 0x11fbd89d0>"
      ]
     },
     "metadata": {},
     "output_type": "display_data"
    }
   ],
   "source": [
    "axes = titanic_raw['Embarked_new'].hist(by = titanic_raw['Survived'])\n",
    "\n",
    "axes[0].set_xticks(np.arange(0.0,3.0,1.0))\n",
    "axes[0].set_xticklabels(['S', 'C', 'Q'], rotation='horizontal')\n",
    "axes[0].set_xlabel('Perished')\n",
    "axes[0].set_title(' ')\n",
    "axes[0].set_ylabel('Count')\n",
    "axes[1].set_xticks(np.arange(0.0,3.0,1.0))\n",
    "axes[1].set_xticklabels(['S', 'C', 'Q'], rotation='horizontal')\n",
    "axes[1].set_xlabel('Survived')\n",
    "axes[1].set_title(' ')\n",
    "axes[1].set_ylabel('Count')\n",
    "\n",
    "plt.suptitle('Survival Rate by Embarked')\n",
    "plt.show()"
   ]
  },
  {
   "cell_type": "markdown",
   "metadata": {},
   "source": [
    "There is not that much significant difference between three Embarked locations. We can see high bars for __S__ because more number of people Embarked from __S__"
   ]
  },
  {
   "cell_type": "markdown",
   "metadata": {},
   "source": [
    "Now we find three most significant factors that affect Survival rate of passengers. Those are __Pclass__, __Fare__, __Gender__. __Pclass__ and __Fare__ are related to each other. Because rich people can buy first class with higher fare."
   ]
  },
  {
   "cell_type": "markdown",
   "metadata": {},
   "source": [
    "### Survival rate by Pclass and Gender"
   ]
  },
  {
   "cell_type": "markdown",
   "metadata": {},
   "source": [
    "Now we will see how both __Pclass__ and __Gender__ both combined affect Survival rate of passengers."
   ]
  },
  {
   "cell_type": "code",
   "execution_count": 215,
   "metadata": {
    "collapsed": false
   },
   "outputs": [
    {
     "data": {
      "text/plain": [
       "Pclass  Gender  Survived\n",
       "1       0       0            77\n",
       "                1            45\n",
       "        1       0             3\n",
       "                1            91\n",
       "2       0       0            91\n",
       "                1            17\n",
       "        1       0             6\n",
       "                1            70\n",
       "3       0       0           300\n",
       "                1            47\n",
       "        1       0            72\n",
       "                1            72\n",
       "Name: Name, dtype: int64"
      ]
     },
     "execution_count": 215,
     "metadata": {},
     "output_type": "execute_result"
    }
   ],
   "source": [
    "titanic_raw.groupby(['Pclass','Gender','Survived']).count()['Name']"
   ]
  },
  {
   "cell_type": "markdown",
   "metadata": {},
   "source": [
    "This will give us great insights about the data. Here __0 = Male__ and __1 = Female__.(Don't confuse here). __Class 1 Female__'s have high survival count than any other category. But __class 3 Male__'s have high perished count."
   ]
  },
  {
   "cell_type": "markdown",
   "metadata": {},
   "source": [
    "Now we will see the above information visually."
   ]
  },
  {
   "cell_type": "code",
   "execution_count": 229,
   "metadata": {
    "collapsed": false
   },
   "outputs": [
    {
     "data": {
      "image/png": "[encoded data removed]",
      "text/plain": [
       "<matplotlib.figure.Figure at 0x1307a2ed0>"
      ]
     },
     "metadata": {},
     "output_type": "display_data"
    },
    {
     "data": {
      "image/png": "[encoded data removed]",
      "text/plain": [
       "<matplotlib.figure.Figure at 0x12dc4b0d0>"
      ]
     },
     "metadata": {},
     "output_type": "display_data"
    },
    {
     "data": {
      "image/png": "[encoded data removed]",
      "text/plain": [
       "<matplotlib.figure.Figure at 0x12c815950>"
      ]
     },
     "metadata": {},
     "output_type": "display_data"
    }
   ],
   "source": [
    "axes = titanic_raw.groupby('Pclass')['Survived'].hist(by=titanic_raw['Gender'])\n",
    "\n",
    "axes[1][0].set_xticks(np.arange(0.0,2.0,1.0))\n",
    "axes[1][0].set_xticklabels(['Perished', 'Survived'], rotation='horizontal')\n",
    "axes[1][0].set_xlabel('Male')\n",
    "axes[1][0].set_title(' ')\n",
    "axes[1][0].set_ylabel('Class 1')\n",
    "axes[1][1].set_xticks(np.arange(0.0,2.0,1.0))\n",
    "axes[1][1].set_xticklabels(['Perished', 'Survived'], rotation='horizontal')\n",
    "axes[1][1].set_xlabel('Female')\n",
    "axes[1][1].set_title(' ')\n",
    "axes[1][1].set_ylabel('Class 1')\n",
    "axes[2][0].set_xticks(np.arange(0.0,2.0,1.0))\n",
    "axes[2][0].set_xticklabels(['Perished', 'Survived'], rotation='horizontal')\n",
    "axes[2][0].set_xlabel('Male')\n",
    "axes[2][0].set_title(' ')\n",
    "axes[2][0].set_ylabel('Class 2')\n",
    "axes[2][1].set_xticks(np.arange(0.0,2.0,1.0))\n",
    "axes[2][1].set_xticklabels(['Perished', 'Survived'], rotation='horizontal')\n",
    "axes[2][1].set_xlabel('Female')\n",
    "axes[2][1].set_title(' ')\n",
    "axes[2][1].set_ylabel('Class 2')\n",
    "axes[3][0].set_xticks(np.arange(0.0,2.0,1.0))\n",
    "axes[3][0].set_xticklabels(['Perished', 'Survived'], rotation='horizontal')\n",
    "axes[3][0].set_xlabel('Male')\n",
    "axes[3][0].set_title(' ')\n",
    "axes[3][0].set_ylabel('Class 3')\n",
    "axes[3][1].set_xticks(np.arange(0.0,2.0,1.0))\n",
    "axes[3][1].set_xticklabels(['Perished', 'Survived'], rotation='horizontal')\n",
    "axes[3][1].set_xlabel('Female')\n",
    "axes[3][1].set_title(' ')\n",
    "axes[3][1].set_ylabel('Class 3')\n",
    "\n",
    "plt.show()"
   ]
  },
  {
   "cell_type": "markdown",
   "metadata": {},
   "source": [
    "This histogram clearly represents the above arguments."
   ]
  },
  {
   "cell_type": "markdown",
   "metadata": {},
   "source": [
    "## Conclusion"
   ]
  },
  {
   "cell_type": "markdown",
   "metadata": {},
   "source": [
    "After analyzing the data, here is what we can conclude about it.\n",
    "\n",
    "1. Higher class people have more chances of surviving when compared to other classes.\n",
    "2. Female have high chances of surviving compared to Gender.\n",
    "3. People who paid high Fare are more likely to survive. This is also related to Pclass (Rich people can travel with first class by paying high fare)\n",
    "4. First class women has high survival rate than any other category.\n",
    "5. Age, Embarked, rel give some insights but we can't be sure to say exactly. "
   ]
  },
  {
   "cell_type": "markdown",
   "metadata": {},
   "source": [
    "## References"
   ]
  },
  {
   "cell_type": "markdown",
   "metadata": {},
   "source": [
    "1. [A Complete Tutorial to Learn Data Science with Python from Scratch](https://www.analyticsvidhya.com/blog/2016/01/complete-tutorial-learn-data-science-python-scratch-2/)\n",
    "2. [Udacity Discussions](https://discussions.udacity.com/c/nd002-p2-intro-to-data-analysis/p2-investigate-a-dataset)\n",
    "3. [MarkDown Syntax](https://github.com/adam-p/markdown-here/wiki/Markdown-Cheatsheet)\n",
    "4. [Google + Stackoverflow](http://stackoverflow.com/questions/tagged/pandas)"
   ]
  },
  {
   "cell_type": "code",
   "execution_count": null,
   "metadata": {
    "collapsed": true
   },
   "outputs": [],
   "source": []
  }
 ],
 "metadata": {
  "kernelspec": {
   "display_name": "Python 2",
   "language": "python",
   "name": "python2"
  },
  "language_info": {
   "codemirror_mode": {
    "name": "ipython",
    "version": 2
   },
   "file_extension": ".py",
   "mimetype": "text/x-python",
   "name": "python",
   "nbconvert_exporter": "python",
   "pygments_lexer": "ipython2",
   "version": "2.7.12"
  }
 },
 "nbformat": 4,
 "nbformat_minor": 0
}
